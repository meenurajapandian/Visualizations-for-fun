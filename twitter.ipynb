{
 "cells": [
  {
   "cell_type": "code",
   "execution_count": 13,
   "metadata": {},
   "outputs": [],
   "source": [
    "import tweepy as tw\n",
    "import pandas as pd\n",
    "\n",
    "consumer_key= 'xlGRb5DfObVcynGkG6EEYPxLt'\n",
    "consumer_secret= 'yJi2zljCWX3WGQ5PqBZgcbx2PzmGgiJiLc3sEJrRe0JSr1Imtj'\n",
    "access_token= '358835618-ENGl4ELrdGgvKSyqddk8G0goIVu2Fqqc5SruoZeY'\n",
    "access_token_secret= '2TRjvWCazut3i7tUcjFrRVpW1UTH95bY5KWt1lbx9S1RS'\n",
    "\n",
    "\n",
    "auth = tw.OAuthHandler(consumer_key, consumer_secret)\n",
    "auth.set_access_token(access_token, access_token_secret)\n",
    "api = tw.API(auth, wait_on_rate_limit=True)\n",
    "\n",
    "\n",
    "search_words = \"#Pray_for_Nesamani since:2019-05-27 until:2019-06-03\"\n",
    "date_since = \"2019-05-27\"\n",
    "date_till = \"2019-06-07\"\n",
    "\n",
    "tweets = tw.Cursor(api.search,\n",
    "              q=search_words,\n",
    "              since=date_since).items(1000000)\n"
   ]
  },
  {
   "cell_type": "code",
   "execution_count": 14,
   "metadata": {},
   "outputs": [],
   "source": [
    "for tweet in tweets:\n",
    "    print(tweet.created_at)"
   ]
  }
 ],
 "metadata": {
  "kernelspec": {
   "display_name": "Python 3",
   "language": "python",
   "name": "python3"
  },
  "language_info": {
   "codemirror_mode": {
    "name": "ipython",
    "version": 3
   },
   "file_extension": ".py",
   "mimetype": "text/x-python",
   "name": "python",
   "nbconvert_exporter": "python",
   "pygments_lexer": "ipython3",
   "version": "3.7.1"
  }
 },
 "nbformat": 4,
 "nbformat_minor": 2
}
