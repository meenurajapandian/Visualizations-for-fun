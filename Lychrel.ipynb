{
 "cells": [
  {
   "cell_type": "code",
   "execution_count": null,
   "metadata": {},
   "outputs": [],
   "source": [
    "from bokeh.layouts import row\n",
    "from bokeh.plotting import figure, show\n",
    "from bokeh.io import output_notebook, export_png\n",
    "from bokeh.palettes import brewer\n",
    "from bokeh.models import ColumnDataSource, LinearColorMapper\n",
    "\n",
    "def reverse(n):\n",
    "    rev=0\n",
    "    while(n>0):\n",
    "        d=n%10\n",
    "        rev=rev*10+d\n",
    "        n=n//10\n",
    "    return rev\n"
   ]
  },
  {
   "cell_type": "code",
   "execution_count": null,
   "metadata": {},
   "outputs": [],
   "source": [
    "t = []\n",
    "x = []\n",
    "y = []\n",
    "z = []\n",
    "c = []\n",
    "i = 196\n",
    "\n",
    "a = i\n",
    "b = reverse(a)\n",
    "t.append(a)\n",
    "j = 0;\n",
    "n = a\n",
    "while(n>0):\n",
    "    d = n%10\n",
    "    y.append(0)\n",
    "    x.append(-j)\n",
    "    c.append(d)\n",
    "    n = n//10\n",
    "    j = j+1;\n",
    "\n",
    "    #x = [q+(j/2) for q in x]\n",
    "k = 1\n",
    "while (abs(a-b) > 0) and (k < 200):\n",
    "    a = a+b\n",
    "    t.append(a)\n",
    "    b = reverse(a)\n",
    "    \n",
    "    #plotting essentials\n",
    "    n = a\n",
    "    j = 0\n",
    "    z = []\n",
    "    while(n>0):\n",
    "        d = n%10\n",
    "        y.append(-k)\n",
    "        z.append(-j)\n",
    "        c.append(d)\n",
    "        n = n//10 \n",
    "        j = j+1\n",
    "    \n",
    "    #z = [q+(j/2) for q in z]\n",
    "    x = x + z\n",
    "    k = k+1\n"
   ]
  },
  {
   "cell_type": "code",
   "execution_count": null,
   "metadata": {},
   "outputs": [],
   "source": [
    "mapper = LinearColorMapper(palette=brewer['Spectral'][10], low=0, high=9)\n",
    "\n",
    "source = ColumnDataSource(data=dict(x=x, y=y, c=c))\n",
    "\n",
    "plt = figure(title=None, plot_width = 1800, plot_height = 3800, match_aspect = True, aspect_scale =1)\n",
    "plt.rect(x='x', y='y', width=1, height=1, source=source, fill_color={'field': 'c', 'transform': mapper}, line_color=None)\n",
    "#plt.circle(x='x', y='y',radius = 0.15, source=source, fill_color={'field': 'c', 'transform': mapper}, line_color=None)\n",
    "plt.background_fill_color = \"#000000\"\n",
    "plt.axis.visible = False\n",
    "plt.xgrid.visible = False\n",
    "plt.ygrid.visible = False\n",
    "show(plt)\n",
    "#export_png(plt, filename=\"plot.png\")"
   ]
  }
 ],
 "metadata": {
  "kernelspec": {
   "display_name": "Python 3",
   "language": "python",
   "name": "python3"
  },
  "language_info": {
   "codemirror_mode": {
    "name": "ipython",
    "version": 3
   },
   "file_extension": ".py",
   "mimetype": "text/x-python",
   "name": "python",
   "nbconvert_exporter": "python",
   "pygments_lexer": "ipython3",
   "version": "3.7.1"
  }
 },
 "nbformat": 4,
 "nbformat_minor": 2
}
