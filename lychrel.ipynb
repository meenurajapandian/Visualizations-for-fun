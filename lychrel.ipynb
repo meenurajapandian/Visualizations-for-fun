{
 "cells": [
  {
   "cell_type": "code",
   "execution_count": 2,
   "metadata": {},
   "outputs": [],
   "source": [
    "from bokeh.layouts import row\n",
    "from bokeh.plotting import figure, show\n",
    "from bokeh.io import output_notebook, export_png\n",
    "from bokeh.palettes import brewer\n",
    "from bokeh.models import ColumnDataSource, LinearColorMapper"
   ]
  },
  {
   "cell_type": "code",
   "execution_count": 3,
   "metadata": {},
   "outputs": [],
   "source": [
    "def reverse(n):\n",
    "    rev=0\n",
    "    while(n>0):\n",
    "        d=n%10\n",
    "        rev=rev*10+d\n",
    "        n=n//10\n",
    "    return rev\n"
   ]
  },
  {
   "cell_type": "code",
   "execution_count": 4,
   "metadata": {},
   "outputs": [],
   "source": [
    "t = []\n",
    "x = []\n",
    "y = []\n",
    "z = []\n",
    "c = []\n",
    "i = 196\n",
    "\n",
    "a = i\n",
    "b = reverse(a)\n",
    "t.append(a)\n",
    "j = 0;\n",
    "n = a\n",
    "while(n>0):\n",
    "    d = n%10\n",
    "    y.append(0)\n",
    "    x.append(-j)\n",
    "    c.append(d)\n",
    "    n = n//10\n",
    "    j = j+1;\n",
    "\n",
    "    #x = [q+(j/2) for q in x]\n",
    "k = 1\n",
    "while (abs(a-b) > 0) and (k < 200):\n",
    "    a = a+b\n",
    "    t.append(a)\n",
    "    b = reverse(a)\n",
    "    \n",
    "    #plotting essentials\n",
    "    n = a\n",
    "    j = 0\n",
    "    z = []\n",
    "    while(n>0):\n",
    "        d = n%10\n",
    "        y.append(-k)\n",
    "        z.append(-j)\n",
    "        c.append(d)\n",
    "        n = n//10 \n",
    "        j = j+1\n",
    "    \n",
    "    #z = [q+(j/2) for q in z]\n",
    "    x = x + z\n",
    "    k = k+1\n"
   ]
  },
  {
   "cell_type": "code",
   "execution_count": 32,
   "metadata": {},
   "outputs": [],
   "source": [
    "mapper = LinearColorMapper(palette=brewer['Spectral'][10], low=0, high=9)\n",
    "\n",
    "source = ColumnDataSource(data=dict(x=x, y=y, c=c))\n",
    "\n",
    "plt = figure(title=None, plot_width = 1800, plot_height = 3800, match_aspect = True, aspect_scale =1)\n",
    "plt.rect(x='x', y='y', width=1, height=1, source=source, fill_color={'field': 'c', 'transform': mapper}, line_color=None)\n",
    "#plt.circle(x='x', y='y',radius = 0.15, source=source, fill_color={'field': 'c', 'transform': mapper}, line_color=None)\n",
    "plt.background_fill_color = \"#000000\"\n",
    "plt.axis.visible = False\n",
    "plt.xgrid.visible = False\n",
    "plt.ygrid.visible = False\n",
    "show(plt)\n",
    "#export_png(plt, filename=\"plot.png\")"
   ]
  },
  {
   "cell_type": "code",
   "execution_count": null,
   "metadata": {},
   "outputs": [],
   "source": [
    "print(x)\n",
    "print(y)\n",
    "print(c)"
   ]
  },
  {
   "cell_type": "code",
   "execution_count": null,
   "metadata": {},
   "outputs": [],
   "source": [
    "x = [0, 0, -1, -1, -1]\n",
    "y = [0, -1, 0, -1, -2]\n",
    "c = [9,8,7,8,1]\n",
    "z = [1,2,3]\n",
    "y = y+z\n",
    "y = [q-1 for q in y]\n",
    "print(y)"
   ]
  },
  {
   "cell_type": "code",
   "execution_count": null,
   "metadata": {},
   "outputs": [],
   "source": []
  },
  {
   "cell_type": "code",
   "execution_count": null,
   "metadata": {},
   "outputs": [],
   "source": [
    "print(out[0:100])"
   ]
  },
  {
   "cell_type": "code",
   "execution_count": 33,
   "metadata": {},
   "outputs": [],
   "source": [
    "#KOLAKOSKI SEQUENCE\n",
    "out = [1,2,2]\n",
    "odd = True\n",
    "for i in range(2,10000):\n",
    "    if odd == True:\n",
    "        for j in range(1,(out[i]+1)):\n",
    "            out.append(1)\n",
    "    else:\n",
    "        for j in range(1,(out[i]+1)):\n",
    "            out.append(2)\n",
    "    odd = not odd"
   ]
  },
  {
   "cell_type": "code",
   "execution_count": 34,
   "metadata": {},
   "outputs": [],
   "source": [
    "x = list(range(0,100)) * 100\n",
    "y = []\n",
    "for a in range(0,100):\n",
    "    y = y + ([-a]*100)\n",
    "    \n",
    "x1 = [1]\n",
    "y1 = [-1]\n",
    "for i in range(2,200):\n",
    "    for count in range(1,(i+1)):\n",
    "        x1.append(count)\n",
    "        y1.append(-i+count-1)\n"
   ]
  },
  {
   "cell_type": "code",
   "execution_count": 35,
   "metadata": {},
   "outputs": [],
   "source": [
    "source = ColumnDataSource(data=dict(x=x, y=y, z=out[0:10000]))\n",
    "mapper = LinearColorMapper(palette=['#000000', '#FFFFFF'], low=1, high=2)\n",
    "\n",
    "plt = figure(title=\"Sequence of reverse then add\", match_aspect = True, aspect_scale =1)\n",
    "plt.rect(x='x', y='y', width=1, height=1, source=source, fill_color={'field': 'z', 'transform': mapper}, line_color=None)\n",
    "show(plt)"
   ]
  },
  {
   "cell_type": "code",
   "execution_count": 36,
   "metadata": {},
   "outputs": [],
   "source": [
    "source = ColumnDataSource(data=dict(x=x1[0:1000], y=y1[0:1000], z=out[0:1000]))\n",
    "mapper = LinearColorMapper(palette=['#000000', '#FFFFFF'], low=1, high=2)\n",
    "\n",
    "plt = figure(title=\"Sequence of reverse then add\", match_aspect = True, aspect_scale =1)\n",
    "plt.rect(x='x', y='y', width=1, height=1, source=source, fill_color={'field': 'z', 'transform': mapper}, line_color=None)\n",
    "show(plt)"
   ]
  }
 ],
 "metadata": {
  "kernelspec": {
   "display_name": "Python 3",
   "language": "python",
   "name": "python3"
  },
  "language_info": {
   "codemirror_mode": {
    "name": "ipython",
    "version": 3
   },
   "file_extension": ".py",
   "mimetype": "text/x-python",
   "name": "python",
   "nbconvert_exporter": "python",
   "pygments_lexer": "ipython3",
   "version": "3.7.1"
  }
 },
 "nbformat": 4,
 "nbformat_minor": 2
}
